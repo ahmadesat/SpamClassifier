{
 "cells": [
  {
   "cell_type": "code",
   "execution_count": null,
   "metadata": {},
   "outputs": [],
   "source": [
    "import os\n",
    "import io\n",
    "import numpy as np\n",
    "from pandas import DataFrame\n",
    "from sklearn.feature_extraction.text import CountVectorizer\n",
    "from sklearn.naive_bayes import MultinomialNB\n",
    "\n",
    "from pathlib import Path\n",
    "path = os.path.join(Path().absolute(), \"/dataset\")"
   ]
  },
  {
   "cell_type": "code",
   "execution_count": null,
   "metadata": {},
   "outputs": [],
   "source": [
    "def readFiles(path):\n",
    "    for root,dirnames,filenames in os.walk(path):\n",
    "        for filename in filenames:\n",
    "            path = os.path.join(root,filename)\n",
    "            \n",
    "            inBody = False\n",
    "            lines= []\n",
    "            f = io.open(path, 'r', encoding='latin1')\n",
    "            for line in f:\n",
    "                if inBody:\n",
    "                    lines.append(line)\n",
    "                elif line== '\\n':\n",
    "                    inBody = True\n",
    "            f.close()\n",
    "            message = '\\n'.join(lines)\n",
    "            yield path, message\n",
    "            \n",
    "def dataFrameFromDirectory(path, classification):\n",
    "    rows = []\n",
    "    index = []\n",
    "    for filename,message in readFiles(path):\n",
    "        rows.append({\"message\" : message,\"class\" : classification})\n",
    "        index.append(filename)\n",
    "        \n",
    "    return DataFrame(rows, index=index)\n",
    "\n",
    "data = DataFrame({\"message\":[], \"class\":[]})\n",
    "\n",
    "data = data.append(dataFrameFromDirectory(os.path.join(path, \"spam\"), 'spam'))\n",
    "data = data.append(dataFrameFromDirectory(os.path.join(path, \"ham\"), 'not-spam'))\n"
   ]
  },
  {
   "cell_type": "code",
   "execution_count": null,
   "metadata": {},
   "outputs": [],
   "source": [
    "data.head()"
   ]
  },
  {
   "cell_type": "code",
   "execution_count": null,
   "metadata": {},
   "outputs": [],
   "source": [
    "vectorizer = CountVectorizer()\n",
    "wordsCounter = vectorizer.fit_transform(data['message'].values) #splitting the message into words and counts how many times these words occur and then uses them in the predictor/classifier\n",
    "\n",
    "classifier = MultinomialNB()\n",
    "spamOrHam = data['class'].values\n",
    "classifier.fit(wordsCounter, spamOrHam) #This will create a model which will predict whether a future email is spam or not spam."
   ]
  },
  {
   "cell_type": "code",
   "execution_count": null,
   "metadata": {
    "scrolled": false
   },
   "outputs": [],
   "source": [
    "examplesForTesting = [\"Win your free Car now!!!\", \"Hello my friend, you ready for the game tomorrow?\"]\n",
    "                      \n",
    "example_wordCounter = vectorizer.transform(examplesForTesting)\n",
    "\n",
    "predictions = classifier.predict(example_wordCounter)\n",
    "\n",
    "for n, v in zip(examplesForTesting, predictions):\n",
    "    print(\"{} ========> {}\".format(n, v))"
   ]
  }
 ],
 "metadata": {
  "kernelspec": {
   "display_name": "Python 3",
   "language": "python",
   "name": "python3"
  },
  "language_info": {
   "codemirror_mode": {
    "name": "ipython",
    "version": 3
   },
   "file_extension": ".py",
   "mimetype": "text/x-python",
   "name": "python",
   "nbconvert_exporter": "python",
   "pygments_lexer": "ipython3",
   "version": "3.7.4"
  }
 },
 "nbformat": 4,
 "nbformat_minor": 2
}
